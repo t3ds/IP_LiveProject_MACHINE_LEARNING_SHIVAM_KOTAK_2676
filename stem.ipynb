{
 "cells": [
  {
   "cell_type": "code",
   "execution_count": 1,
   "metadata": {},
   "outputs": [],
   "source": [
    "import pandas as pd\n",
    "import numpy as np\n",
    "\n",
    "from nltk.stem.snowball import SnowballStemmer"
   ]
  },
  {
   "cell_type": "code",
   "execution_count": 2,
   "metadata": {},
   "outputs": [],
   "source": [
    "stemmer = SnowballStemmer(\"english\")\n",
    "events = pd.read_excel(\"Event.xlsx\")"
   ]
  },
  {
   "cell_type": "code",
   "execution_count": 3,
   "metadata": {},
   "outputs": [
    {
     "data": {
      "text/html": [
       "<div>\n",
       "<style scoped>\n",
       "    .dataframe tbody tr th:only-of-type {\n",
       "        vertical-align: middle;\n",
       "    }\n",
       "\n",
       "    .dataframe tbody tr th {\n",
       "        vertical-align: top;\n",
       "    }\n",
       "\n",
       "    .dataframe thead th {\n",
       "        text-align: right;\n",
       "    }\n",
       "</style>\n",
       "<table border=\"1\" class=\"dataframe\">\n",
       "  <thead>\n",
       "    <tr style=\"text-align: right;\">\n",
       "      <th></th>\n",
       "      <th>Events</th>\n",
       "      <th>Type</th>\n",
       "      <th>Unnamed: 2</th>\n",
       "    </tr>\n",
       "  </thead>\n",
       "  <tbody>\n",
       "    <tr>\n",
       "      <th>0</th>\n",
       "      <td>Management 2020 hackathon is out</td>\n",
       "      <td>Management.Hackathons</td>\n",
       "      <td>NaN</td>\n",
       "    </tr>\n",
       "    <tr>\n",
       "      <th>1</th>\n",
       "      <td>Attend a mangament hackathon of your choosing</td>\n",
       "      <td>Management.Hackathons</td>\n",
       "      <td>NaN</td>\n",
       "    </tr>\n",
       "    <tr>\n",
       "      <th>2</th>\n",
       "      <td>Hackathons and more: Management hackathon is h...</td>\n",
       "      <td>Management.Hackathons</td>\n",
       "      <td>NaN</td>\n",
       "    </tr>\n",
       "    <tr>\n",
       "      <th>3</th>\n",
       "      <td>Introducing The Management 2.0 Hackathon</td>\n",
       "      <td>Management.Hackathons</td>\n",
       "      <td>NaN</td>\n",
       "    </tr>\n",
       "    <tr>\n",
       "      <th>4</th>\n",
       "      <td>Join us live online on September 10th at 9:30 ...</td>\n",
       "      <td>Management.Webinars</td>\n",
       "      <td>NaN</td>\n",
       "    </tr>\n",
       "    <tr>\n",
       "      <th>...</th>\n",
       "      <td>...</td>\n",
       "      <td>...</td>\n",
       "      <td>...</td>\n",
       "    </tr>\n",
       "    <tr>\n",
       "      <th>1371</th>\n",
       "      <td>Attend the spykar management hackathon today</td>\n",
       "      <td>Management.Hackathons</td>\n",
       "      <td>NaN</td>\n",
       "    </tr>\n",
       "    <tr>\n",
       "      <th>1372</th>\n",
       "      <td>Hacakthons and more: Show off your managing sk...</td>\n",
       "      <td>Management.Hackathons</td>\n",
       "      <td>NaN</td>\n",
       "    </tr>\n",
       "    <tr>\n",
       "      <th>1373</th>\n",
       "      <td>Doy you think you can manage people well? Part...</td>\n",
       "      <td>Management.Hackathons</td>\n",
       "      <td>NaN</td>\n",
       "    </tr>\n",
       "    <tr>\n",
       "      <th>1374</th>\n",
       "      <td>Management related hackathons in your area today</td>\n",
       "      <td>Management.Hackathons</td>\n",
       "      <td>NaN</td>\n",
       "    </tr>\n",
       "    <tr>\n",
       "      <th>1375</th>\n",
       "      <td>Hackathons and similar events: The mumbai mana...</td>\n",
       "      <td>Management.Hackathons</td>\n",
       "      <td>NaN</td>\n",
       "    </tr>\n",
       "  </tbody>\n",
       "</table>\n",
       "<p>1376 rows × 3 columns</p>\n",
       "</div>"
      ],
      "text/plain": [
       "                                                 Events  \\\n",
       "0                      Management 2020 hackathon is out   \n",
       "1         Attend a mangament hackathon of your choosing   \n",
       "2     Hackathons and more: Management hackathon is h...   \n",
       "3              Introducing The Management 2.0 Hackathon   \n",
       "4     Join us live online on September 10th at 9:30 ...   \n",
       "...                                                 ...   \n",
       "1371       Attend the spykar management hackathon today   \n",
       "1372  Hacakthons and more: Show off your managing sk...   \n",
       "1373  Doy you think you can manage people well? Part...   \n",
       "1374   Management related hackathons in your area today   \n",
       "1375  Hackathons and similar events: The mumbai mana...   \n",
       "\n",
       "                       Type Unnamed: 2  \n",
       "0     Management.Hackathons        NaN  \n",
       "1     Management.Hackathons        NaN  \n",
       "2     Management.Hackathons        NaN  \n",
       "3     Management.Hackathons        NaN  \n",
       "4       Management.Webinars        NaN  \n",
       "...                     ...        ...  \n",
       "1371  Management.Hackathons        NaN  \n",
       "1372  Management.Hackathons        NaN  \n",
       "1373  Management.Hackathons        NaN  \n",
       "1374  Management.Hackathons        NaN  \n",
       "1375  Management.Hackathons        NaN  \n",
       "\n",
       "[1376 rows x 3 columns]"
      ]
     },
     "execution_count": 3,
     "metadata": {},
     "output_type": "execute_result"
    }
   ],
   "source": [
    "events"
   ]
  },
  {
   "cell_type": "code",
   "execution_count": 11,
   "metadata": {},
   "outputs": [],
   "source": [
    "events['Events_stemmed'] = events['Events']. apply(lambda x: [stemmer.stem(y) for y in x])\n",
    "events['Events_stemmed_sentence'] = events['Events_stemmed'].apply(lambda x: \" \".join(x))"
   ]
  },
  {
   "cell_type": "code",
   "execution_count": 12,
   "metadata": {},
   "outputs": [
    {
     "data": {
      "text/plain": [
       "0       m a n a g e m e n t   2 0 2 0   h a c k a t h ...\n",
       "1       a t t e n d   a   m a n g a m e n t   h a c k ...\n",
       "2       h a c k a t h o n s   a n d   m o r e :   m a ...\n",
       "3       i n t r o d u c i n g   t h e   m a n a g e m ...\n",
       "4       j o i n   u s   l i v e   o n l i n e   o n   ...\n",
       "                              ...                        \n",
       "1371    a t t e n d   t h e   s p y k a r   m a n a g ...\n",
       "1372    h a c a k t h o n s   a n d   m o r e :   s h ...\n",
       "1373    d o y   y o u   t h i n k   y o u   c a n   m ...\n",
       "1374    m a n a g e m e n t   r e l a t e d   h a c k ...\n",
       "1375    h a c k a t h o n s   a n d   s i m i l a r   ...\n",
       "Name: Events_stemmed_sentence, Length: 1376, dtype: object"
      ]
     },
     "execution_count": 12,
     "metadata": {},
     "output_type": "execute_result"
    }
   ],
   "source": [
    "events['Events_stemmed_sentence']"
   ]
  },
  {
   "cell_type": "code",
   "execution_count": 7,
   "metadata": {},
   "outputs": [],
   "source": [
    "output = []\n",
    "for sentence in events.Events:\n",
    "    output.append(\" \".join([stemmer.stem(i) for i in sentence.split()]))"
   ]
  },
  {
   "cell_type": "code",
   "execution_count": 8,
   "metadata": {},
   "outputs": [],
   "source": [
    "events['Events_stemmed'] = output"
   ]
  },
  {
   "cell_type": "code",
   "execution_count": 11,
   "metadata": {},
   "outputs": [
    {
     "data": {
      "text/plain": [
       "'becom a certii java expert today!'"
      ]
     },
     "execution_count": 11,
     "metadata": {},
     "output_type": "execute_result"
    }
   ],
   "source": [
    "events['Events_stemmed'][500]"
   ]
  },
  {
   "cell_type": "code",
   "execution_count": null,
   "metadata": {},
   "outputs": [],
   "source": []
  }
 ],
 "metadata": {
  "kernelspec": {
   "display_name": "Python 3.7.4 64-bit",
   "language": "python",
   "name": "python37464bitfb59ccd90b7d435dba0da5732abee3eb"
  },
  "language_info": {
   "codemirror_mode": {
    "name": "ipython",
    "version": 3
   },
   "file_extension": ".py",
   "mimetype": "text/x-python",
   "name": "python",
   "nbconvert_exporter": "python",
   "pygments_lexer": "ipython3",
   "version": "3.7.4"
  }
 },
 "nbformat": 4,
 "nbformat_minor": 2
}

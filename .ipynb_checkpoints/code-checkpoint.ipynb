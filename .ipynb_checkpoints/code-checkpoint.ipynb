{
 "cells": [
  {
   "cell_type": "code",
   "execution_count": 1,
   "metadata": {},
   "outputs": [],
   "source": [
    "import numpy as np\n",
    "import pandas as pd\n",
    "import pickle\n",
    "from sklearn.feature_extraction.text import TfidfVectorizer\n",
    "from nltk.stem import SnowballStemmer\n",
    "from sklearn.svm import LinearSVC"
   ]
  },
  {
   "cell_type": "code",
   "execution_count": 7,
   "metadata": {},
   "outputs": [],
   "source": [
    "def load_model():\n",
    "    tfidf = pickle.load(open(\"tfidf.pickle\",'rb'))\n",
    "    model = pickle.load(open(\"model.sav\", 'rb'))\n",
    "    return tfidf,model"
   ]
  },
  {
   "cell_type": "code",
   "execution_count": 3,
   "metadata": {},
   "outputs": [],
   "source": [
    "def split_lemma(event_list):#stemmer = SnowballStemmer(\"english\")\n",
    "    stemmer = SnowballStemmer(\"english\")\n",
    "    #lemma = WordNetLemmatizer()\n",
    "\n",
    "    output = []\n",
    "    for sentence in event_list:\n",
    "        output.append(\" \".join([stemmer.stem(i) for i in sentence.split()]))\n",
    "    return output"
   ]
  },
  {
   "cell_type": "code",
   "execution_count": 7,
   "metadata": {},
   "outputs": [
    {
     "data": {
      "text/plain": [
       "<2x2892 sparse matrix of type '<class 'numpy.float64'>'\n",
       "\twith 4 stored elements in Compressed Sparse Row format>"
      ]
     },
     "execution_count": 7,
     "metadata": {},
     "output_type": "execute_result"
    }
   ],
   "source": [
    "#texts = [\"No don't do that to me\",\n",
    "        \"Please leave me alone\"]\n",
    "#tfidf = pickle.load(open(\"tfidf.pickle\",'rb'))\n",
    "#tfidf = TfidfVectorizer(sublinear_tf=True, min_df=2, norm='l2', encoding='latin-1', ngram_range=(1, 3), stop_words= 'english', token_pattern = r\"(?u)c\\+{2}|\\b\\w+\\b\")\n",
    "#tfidf.transform(split_lemma(texts))"
   ]
  },
  {
   "cell_type": "code",
   "execution_count": 4,
   "metadata": {},
   "outputs": [],
   "source": [
    "def get_query(event_dom, event_type, employees):\n",
    "    return employees.query(\"Domain == '\" + event_dom + \"' and (Event1 == '\" + event_type +\"' or Event2 == '\" + event_type + \"')\")"
   ]
  },
  {
   "cell_type": "code",
   "execution_count": 8,
   "metadata": {},
   "outputs": [],
   "source": [
    "def predict(events, employees, tfidf, model):\n",
    "    #for event in events:\n",
    "        #print(type(event))\n",
    "        recommendations = []\n",
    "        pred = tfidf.predict(model.transform(events))\n",
    "        \n",
    "        #for text, predicted in zip(events, pred):\n",
    "          #print('\"{}\"'.format(text))\n",
    "          #print(\"  - Predicted as: '{}'\".format(predicted))\n",
    "          #print(\"\")\n",
    "        \n",
    "        for prediction in pred.tolist():\n",
    "            domain, event_type = prediction.split(\".\")\n",
    "            if domain == 'Artificial_Intelligence':\n",
    "                #recommend_to = employees.loc[employees['Domain'] == \"Artificial Intelligence\" and (employees['Event1'] == event_type or employees['Event2'] == event_type) , 'Name'].all()\n",
    "                recommend_to = get_query('Artificial Intelligence', event_type, employees)\n",
    "                \n",
    "            elif domain == 'WebDev':\n",
    "                recommend_to = get_query('Web Development', event_type, employees)\n",
    "                \n",
    "            elif domain == 'Mobile_Applications':\n",
    "                recommend_to = get_query('Mobile Applications', event_type, employees)\n",
    "                \n",
    "            elif domain == 'ML':\n",
    "                recommend_to = get_query('Machine Learning', event_type, employees)\n",
    "                \n",
    "            elif domain == 'CC':\n",
    "                recommend_to = get_query('Cloud Computing', event_type, employees)\n",
    "                \n",
    "            elif domain == 'Higher_Education':\n",
    "                recommend_to = get_query('Higher Education', event_type, employees)\n",
    "                \n",
    "            elif domain == 'DevOps':\n",
    "                recommend_to = get_query('Development Processes', event_type, employees)\n",
    "                \n",
    "            elif domain == 'Software_Architecture':\n",
    "                recommend_to = get_query('Software Architecture', event_type, employees)\n",
    "                \n",
    "            elif domain == 'Data_Science':\n",
    "                recommend_to = get_query('Data Science', event_type, employees)\n",
    "                \n",
    "            elif domain == 'Cpp':\n",
    "                recommend_to = get_query('C++', event_type, employees)\n",
    "                \n",
    "            elif domain == 'None':\n",
    "                recommend_to = employees.query(\"Event1 == '\" + event_type + \"' or Event2 == '\" + event_type + \"'\")\n",
    "                \n",
    "            else:\n",
    "                recommend_to = get_query(domain, event_type, employees)\n",
    "                \n",
    "            recommendations.append(\", \".join(recommend_to['Name'].values))\n",
    "            \n",
    "        return recommendations"
   ]
  },
  {
   "cell_type": "code",
   "execution_count": 10,
   "metadata": {},
   "outputs": [
    {
     "name": "stdout",
     "output_type": "stream",
     "text": [
      "Please enter the file name with : event_test.csv\n"
     ]
    },
    {
     "ename": "AttributeError",
     "evalue": "'TfidfVectorizer' object has no attribute 'predict'",
     "output_type": "error",
     "traceback": [
      "\u001b[1;31m---------------------------------------------------------------------------\u001b[0m",
      "\u001b[1;31mAttributeError\u001b[0m                            Traceback (most recent call last)",
      "\u001b[1;32m<ipython-input-10-84ba453b4074>\u001b[0m in \u001b[0;36m<module>\u001b[1;34m\u001b[0m\n\u001b[0;32m      9\u001b[0m     \u001b[0mtfidf\u001b[0m\u001b[1;33m,\u001b[0m \u001b[0mmodel\u001b[0m \u001b[1;33m=\u001b[0m \u001b[0mload_model\u001b[0m\u001b[1;33m(\u001b[0m\u001b[1;33m)\u001b[0m\u001b[1;33m\u001b[0m\u001b[1;33m\u001b[0m\u001b[0m\n\u001b[0;32m     10\u001b[0m \u001b[1;33m\u001b[0m\u001b[0m\n\u001b[1;32m---> 11\u001b[1;33m     \u001b[0mrecommendations\u001b[0m \u001b[1;33m=\u001b[0m \u001b[0mpredict\u001b[0m\u001b[1;33m(\u001b[0m\u001b[0mto_pred_sent\u001b[0m\u001b[1;33m,\u001b[0m \u001b[0memployees\u001b[0m\u001b[1;33m,\u001b[0m\u001b[0mtfidf\u001b[0m\u001b[1;33m,\u001b[0m \u001b[0mmodel\u001b[0m\u001b[1;33m)\u001b[0m\u001b[1;33m\u001b[0m\u001b[1;33m\u001b[0m\u001b[0m\n\u001b[0m\u001b[0;32m     12\u001b[0m     \u001b[1;31m#print(recommendations)\u001b[0m\u001b[1;33m\u001b[0m\u001b[1;33m\u001b[0m\u001b[1;33m\u001b[0m\u001b[0m\n\u001b[0;32m     13\u001b[0m     \u001b[1;31m#to_pred_events['Employees'] = recommendations\u001b[0m\u001b[1;33m\u001b[0m\u001b[1;33m\u001b[0m\u001b[1;33m\u001b[0m\u001b[0m\n",
      "\u001b[1;32m<ipython-input-8-874b015beaa6>\u001b[0m in \u001b[0;36mpredict\u001b[1;34m(events, employees, tfidf, model)\u001b[0m\n\u001b[0;32m      3\u001b[0m         \u001b[1;31m#print(type(event))\u001b[0m\u001b[1;33m\u001b[0m\u001b[1;33m\u001b[0m\u001b[1;33m\u001b[0m\u001b[0m\n\u001b[0;32m      4\u001b[0m         \u001b[0mrecommendations\u001b[0m \u001b[1;33m=\u001b[0m \u001b[1;33m[\u001b[0m\u001b[1;33m]\u001b[0m\u001b[1;33m\u001b[0m\u001b[1;33m\u001b[0m\u001b[0m\n\u001b[1;32m----> 5\u001b[1;33m         \u001b[0mpred\u001b[0m \u001b[1;33m=\u001b[0m \u001b[0mmodel\u001b[0m\u001b[1;33m.\u001b[0m\u001b[0mpredict\u001b[0m\u001b[1;33m(\u001b[0m\u001b[0mtfidf\u001b[0m\u001b[1;33m.\u001b[0m\u001b[0mtransform\u001b[0m\u001b[1;33m(\u001b[0m\u001b[0mevents\u001b[0m\u001b[1;33m)\u001b[0m\u001b[1;33m)\u001b[0m\u001b[1;33m\u001b[0m\u001b[1;33m\u001b[0m\u001b[0m\n\u001b[0m\u001b[0;32m      6\u001b[0m \u001b[1;33m\u001b[0m\u001b[0m\n\u001b[0;32m      7\u001b[0m         \u001b[1;31m#for text, predicted in zip(events, pred):\u001b[0m\u001b[1;33m\u001b[0m\u001b[1;33m\u001b[0m\u001b[1;33m\u001b[0m\u001b[0m\n",
      "\u001b[1;31mAttributeError\u001b[0m: 'TfidfVectorizer' object has no attribute 'predict'"
     ]
    }
   ],
   "source": [
    "if __name__ == \"__main__\":\n",
    "    employees = pd.read_csv(\"CCMLEmployeeData.csv\")\n",
    "    \n",
    "    to_pred = input(\"Please enter the file name with : \")\n",
    "    \n",
    "    to_pred_events = pd.read_csv(to_pred)\n",
    "    to_pred_sent = split_lemma(to_pred_events.iloc[:,0])\n",
    "    \n",
    "    tfidf, model = load_model()\n",
    "    \n",
    "    recommendations = predict(to_pred_sent, employees,tfidf, model)\n",
    "    #print(recommendations)\n",
    "    #to_pred_events['Employees'] = recommendations\n",
    "    result = pd.Dataframe(zip(to_pred_events.iloc[:,0].values, recommendations))\n",
    "    with open(\"output.xlsx\",\"w\"):\n",
    "        to_pred_events.to_csv(\"output.xlsx\", index=False)"
   ]
  },
  {
   "cell_type": "code",
   "execution_count": null,
   "metadata": {},
   "outputs": [],
   "source": []
  }
 ],
 "metadata": {
  "kernelspec": {
   "display_name": "Python 3.7.4 64-bit",
   "language": "python",
   "name": "python37464bitfb59ccd90b7d435dba0da5732abee3eb"
  },
  "language_info": {
   "codemirror_mode": {
    "name": "ipython",
    "version": 3
   },
   "file_extension": ".py",
   "mimetype": "text/x-python",
   "name": "python",
   "nbconvert_exporter": "python",
   "pygments_lexer": "ipython3",
   "version": "3.7.4"
  }
 },
 "nbformat": 4,
 "nbformat_minor": 2
}

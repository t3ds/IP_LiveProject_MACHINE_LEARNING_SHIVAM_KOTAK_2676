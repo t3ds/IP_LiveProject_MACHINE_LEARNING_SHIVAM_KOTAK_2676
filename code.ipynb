{
 "cells": [
  {
   "cell_type": "code",
   "execution_count": 7,
   "metadata": {},
   "outputs": [
    {
     "name": "stdout",
     "output_type": "stream",
     "text": [
      "Collecting xlwt\n",
      "  Using cached xlwt-1.3.0-py2.py3-none-any.whl (99 kB)\n",
      "Installing collected packages: xlwt\n",
      "Successfully installed xlwt-1.3.0\n"
     ]
    }
   ],
   "source": [
    "import numpy as np\n",
    "import pandas as pd\n",
    "import pickle\n",
    "from sklearn.feature_extraction.text import TfidfVectorizer\n",
    "from nltk.stem import SnowballStemmer\n",
    "from sklearn.svm import LinearSVC\n",
    "!pip install xlwt"
   ]
  },
  {
   "cell_type": "code",
   "execution_count": 2,
   "metadata": {},
   "outputs": [],
   "source": [
    "def load_model():\n",
    "    tfidf = pickle.load(open(\"tfidf.pickle\",'rb'))\n",
    "    model = pickle.load(open(\"model.sav\", 'rb'))\n",
    "    return tfidf,model"
   ]
  },
  {
   "cell_type": "code",
   "execution_count": 3,
   "metadata": {},
   "outputs": [],
   "source": [
    "def split_lemma(event_list):#stemmer = SnowballStemmer(\"english\")\n",
    "    stemmer = SnowballStemmer(\"english\")\n",
    "    #lemma = WordNetLemmatizer()\n",
    "\n",
    "    output = []\n",
    "    for sentence in event_list:\n",
    "        output.append(\" \".join([stemmer.stem(i) for i in sentence.split()]))\n",
    "    return output"
   ]
  },
  {
   "cell_type": "code",
   "execution_count": 4,
   "metadata": {},
   "outputs": [
    {
     "ename": "IndentationError",
     "evalue": "unexpected indent (<ipython-input-4-650aaec4a7ac>, line 2)",
     "output_type": "error",
     "traceback": [
      "\u001b[1;36m  File \u001b[1;32m\"<ipython-input-4-650aaec4a7ac>\"\u001b[1;36m, line \u001b[1;32m2\u001b[0m\n\u001b[1;33m    \"Please leave me alone\"]\u001b[0m\n\u001b[1;37m    ^\u001b[0m\n\u001b[1;31mIndentationError\u001b[0m\u001b[1;31m:\u001b[0m unexpected indent\n"
     ]
    }
   ],
   "source": [
    "#texts = [\"No don't do that to me\",\n",
    "        \"Please leave me alone\"]\n",
    "#tfidf = pickle.load(open(\"tfidf.pickle\",'rb'))\n",
    "#tfidf = TfidfVectorizer(sublinear_tf=True, min_df=2, norm='l2', encoding='latin-1', ngram_range=(1, 3), stop_words= 'english', token_pattern = r\"(?u)c\\+{2}|\\b\\w+\\b\")\n",
    "#tfidf.transform(split_lemma(texts))"
   ]
  },
  {
   "cell_type": "code",
   "execution_count": 4,
   "metadata": {},
   "outputs": [],
   "source": [
    "def get_query(event_dom, event_type, employees):\n",
    "    return employees.query(\"Domain == '\" + event_dom + \"' and (Event1 == '\" + event_type +\"' or Event2 == '\" + event_type + \"')\")"
   ]
  },
  {
   "cell_type": "code",
   "execution_count": 5,
   "metadata": {},
   "outputs": [],
   "source": [
    "def predict(events, employees, tfidf, model):\n",
    "    #for event in events:\n",
    "        #print(type(event))\n",
    "        recommendations = []\n",
    "        pred = model.predict(tfidf.transform(events))\n",
    "        \n",
    "        #for text, predicted in zip(events, pred):\n",
    "          #print('\"{}\"'.format(text))\n",
    "          #print(\"  - Predicted as: '{}'\".format(predicted))\n",
    "          #print(\"\")\n",
    "        \n",
    "        for prediction in pred.tolist():\n",
    "            domain, event_type = prediction.split(\".\")\n",
    "            if domain == 'Artificial_Intelligence':\n",
    "                #recommend_to = employees.loc[employees['Domain'] == \"Artificial Intelligence\" and (employees['Event1'] == event_type or employees['Event2'] == event_type) , 'Name'].all()\n",
    "                recommend_to = get_query('Artificial Intelligence', event_type, employees)\n",
    "                \n",
    "            elif domain == 'WebDev':\n",
    "                recommend_to = get_query('Web Development', event_type, employees)\n",
    "                \n",
    "            elif domain == 'Mobile_Applications':\n",
    "                recommend_to = get_query('Mobile Applications', event_type, employees)\n",
    "                \n",
    "            elif domain == 'ML':\n",
    "                recommend_to = get_query('Machine Learning', event_type, employees)\n",
    "                \n",
    "            elif domain == 'CC':\n",
    "                recommend_to = get_query('Cloud Computing', event_type, employees)\n",
    "                \n",
    "            elif domain == 'Higher_Education':\n",
    "                recommend_to = get_query('Higher Education', event_type, employees)\n",
    "                \n",
    "            elif domain == 'DevOps':\n",
    "                recommend_to = get_query('Development Processes', event_type, employees)\n",
    "                \n",
    "            elif domain == 'Software_Architecture':\n",
    "                recommend_to = get_query('Software Architecture', event_type, employees)\n",
    "                \n",
    "            elif domain == 'Data_Science':\n",
    "                recommend_to = get_query('Data Science', event_type, employees)\n",
    "                \n",
    "            elif domain == 'Cpp':\n",
    "                recommend_to = get_query('C++', event_type, employees)\n",
    "                \n",
    "            elif domain == 'None':\n",
    "                recommend_to = employees.query(\"Event1 == '\" + event_type + \"' or Event2 == '\" + event_type + \"'\")\n",
    "                \n",
    "            else:\n",
    "                recommend_to = get_query(domain, event_type, employees)\n",
    "                \n",
    "            recommendations.append(\", \".join(recommend_to['Name'].values))\n",
    "            \n",
    "        return recommendations"
   ]
  },
  {
   "cell_type": "code",
   "execution_count": 8,
   "metadata": {},
   "outputs": [
    {
     "name": "stdout",
     "output_type": "stream",
     "text": [
      "Please enter the file name with : event_test.csv\n",
      "0                              David Cox, Kristy Levine\n",
      "1                       Chelsea Smith, Andrew Rodriguez\n",
      "2                                         Deborah Young\n",
      "3                                                      \n",
      "4                                       Jennifer Walker\n",
      "5                                      Michele Campbell\n",
      "6                                       Barbara Mcguire\n",
      "7                         Angela Hall, Matthew Martinez\n",
      "8                                                      \n",
      "9          Kevin Robbins, Ernest Pierce, Marissa Dawson\n",
      "10                                                     \n",
      "11                                                     \n",
      "12                          John Phillips, Alyssa Davis\n",
      "13                                          David Davis\n",
      "14                                                     \n",
      "15                                        Deborah Young\n",
      "16                                                     \n",
      "17                                        Deborah Young\n",
      "18                                                     \n",
      "19                      Justin Copeland, Janice Leonard\n",
      "20                                         James Porter\n",
      "21                                                     \n",
      "22                                                     \n",
      "23                                                     \n",
      "24                                                     \n",
      "25                                      Samuel Johnston\n",
      "26                                      Samuel Johnston\n",
      "27    Ann Morris, Donna Hansen, Matthew Graham, Robe...\n",
      "28                                                     \n",
      "29                                                     \n",
      "30                                                     \n",
      "31            Lisa Roberts, William Rosales, James Cole\n",
      "32                           Peter Wood, Charles Parker\n",
      "33                                                     \n",
      "34                                       Javier Leblanc\n",
      "35                          Angela Stokes, Valerie Yang\n",
      "36                        Adam Richards, Daniel Johnson\n",
      "37                                       Daniel Johnson\n",
      "38                                       Katelyn Barnes\n",
      "39                          Bryan Mann, Kenneth Jackson\n",
      "40                                          Laura Hurst\n",
      "41                                                     \n",
      "42    Sherri Dawson, Pamela Burton, Lisa Roberts, Br...\n",
      "43          Diana Thomas, Susan Bailey, Jennifer Walker\n",
      "44    Sherri Dawson, Pamela Burton, Lisa Roberts, Br...\n",
      "45                                         Edwin Bowman\n",
      "46                           Kayla Young, Micheal Brown\n",
      "47                                                     \n",
      "48                                                     \n",
      "Name: Employees, dtype: object\n"
     ]
    }
   ],
   "source": [
    "if __name__ == \"__main__\":\n",
    "    employees = pd.read_csv(\"CCMLEmployeeData.csv\")\n",
    "    \n",
    "    to_pred = input(\"Please enter the file name with : \")\n",
    "    \n",
    "    to_pred_events = pd.read_csv(to_pred)\n",
    "    to_pred_sent = split_lemma(to_pred_events.iloc[:,0])\n",
    "    \n",
    "    tfidf, model = load_model()\n",
    "    \n",
    "    recommendations = predict(to_pred_sent, employees,tfidf, model)\n",
    "    #print(recommendations)\n",
    "    #to_pred_events['Employees'] = recommendations\n",
    "    result = pd.DataFrame(to_pred_events.iloc[:,0].values, columns = [\"Events\"])\n",
    "    result[\"Employees\"] = recommendations\n",
    "    with open(\"output.xls\",\"w\"):\n",
    "        result.to_excel(\"output.xls\", index=False)\n",
    "    print(result.Employees)"
   ]
  },
  {
   "cell_type": "code",
   "execution_count": null,
   "metadata": {},
   "outputs": [],
   "source": []
  }
 ],
 "metadata": {
  "kernelspec": {
   "display_name": "Python 3.7.4 64-bit",
   "language": "python",
   "name": "python37464bitfb59ccd90b7d435dba0da5732abee3eb"
  },
  "language_info": {
   "codemirror_mode": {
    "name": "ipython",
    "version": 3
   },
   "file_extension": ".py",
   "mimetype": "text/x-python",
   "name": "python",
   "nbconvert_exporter": "python",
   "pygments_lexer": "ipython3",
   "version": "3.7.4"
  }
 },
 "nbformat": 4,
 "nbformat_minor": 2
}

{
 "cells": [
  {
   "cell_type": "code",
   "execution_count": 1,
   "metadata": {},
   "outputs": [],
   "source": [
    "import numpy as np\n",
    "import pandas as pd"
   ]
  },
  {
   "cell_type": "code",
   "execution_count": 2,
   "metadata": {},
   "outputs": [],
   "source": [
    "events = pd.read_excel(\"Event.xlsx\")"
   ]
  },
  {
   "cell_type": "code",
   "execution_count": 3,
   "metadata": {},
   "outputs": [
    {
     "data": {
      "text/html": [
       "<div>\n",
       "<style scoped>\n",
       "    .dataframe tbody tr th:only-of-type {\n",
       "        vertical-align: middle;\n",
       "    }\n",
       "\n",
       "    .dataframe tbody tr th {\n",
       "        vertical-align: top;\n",
       "    }\n",
       "\n",
       "    .dataframe thead th {\n",
       "        text-align: right;\n",
       "    }\n",
       "</style>\n",
       "<table border=\"1\" class=\"dataframe\">\n",
       "  <thead>\n",
       "    <tr style=\"text-align: right;\">\n",
       "      <th></th>\n",
       "      <th>Events</th>\n",
       "      <th>Type</th>\n",
       "      <th>Unnamed: 2</th>\n",
       "    </tr>\n",
       "  </thead>\n",
       "  <tbody>\n",
       "    <tr>\n",
       "      <th>0</th>\n",
       "      <td>Introducing The Management 2.0 Hackathon</td>\n",
       "      <td>Management.Hackathons</td>\n",
       "      <td>NaN</td>\n",
       "    </tr>\n",
       "    <tr>\n",
       "      <th>1</th>\n",
       "      <td>Join us live online on September 10th at 9:30 ...</td>\n",
       "      <td>Management.Webinars</td>\n",
       "      <td>NaN</td>\n",
       "    </tr>\n",
       "    <tr>\n",
       "      <th>2</th>\n",
       "      <td>Learn and practise your delegation skills with...</td>\n",
       "      <td>Management.Webinars</td>\n",
       "      <td>NaN</td>\n",
       "    </tr>\n",
       "    <tr>\n",
       "      <th>3</th>\n",
       "      <td>Upcoming Online Seminar: The Future of Managem...</td>\n",
       "      <td>Management.Webinars</td>\n",
       "      <td>NaN</td>\n",
       "    </tr>\n",
       "    <tr>\n",
       "      <th>4</th>\n",
       "      <td>World's biggest coding event - TechGig Code Gl...</td>\n",
       "      <td>Coding.Hackathons</td>\n",
       "      <td>NaN</td>\n",
       "    </tr>\n",
       "    <tr>\n",
       "      <th>...</th>\n",
       "      <td>...</td>\n",
       "      <td>...</td>\n",
       "      <td>...</td>\n",
       "    </tr>\n",
       "    <tr>\n",
       "      <th>347</th>\n",
       "      <td>Join the C Developer Conference happening Tomo...</td>\n",
       "      <td>C.Seminars</td>\n",
       "      <td>NaN</td>\n",
       "    </tr>\n",
       "    <tr>\n",
       "      <th>348</th>\n",
       "      <td>Seminar - Objective C and Its uses</td>\n",
       "      <td>C.Seminars</td>\n",
       "      <td>NaN</td>\n",
       "    </tr>\n",
       "    <tr>\n",
       "      <th>349</th>\n",
       "      <td>To C or Not to C. A deep dive conference aout ...</td>\n",
       "      <td>C.Seminars</td>\n",
       "      <td>NaN</td>\n",
       "    </tr>\n",
       "    <tr>\n",
       "      <th>350</th>\n",
       "      <td>C is everywhere but we just don’t see it. Join...</td>\n",
       "      <td>C.Seminars</td>\n",
       "      <td>NaN</td>\n",
       "    </tr>\n",
       "    <tr>\n",
       "      <th>351</th>\n",
       "      <td>Conferences and Seminars : How to C</td>\n",
       "      <td>C.Seminars</td>\n",
       "      <td>NaN</td>\n",
       "    </tr>\n",
       "  </tbody>\n",
       "</table>\n",
       "<p>352 rows × 3 columns</p>\n",
       "</div>"
      ],
      "text/plain": [
       "                                                Events                   Type  \\\n",
       "0             Introducing The Management 2.0 Hackathon  Management.Hackathons   \n",
       "1    Join us live online on September 10th at 9:30 ...    Management.Webinars   \n",
       "2    Learn and practise your delegation skills with...    Management.Webinars   \n",
       "3    Upcoming Online Seminar: The Future of Managem...    Management.Webinars   \n",
       "4    World's biggest coding event - TechGig Code Gl...      Coding.Hackathons   \n",
       "..                                                 ...                    ...   \n",
       "347  Join the C Developer Conference happening Tomo...             C.Seminars   \n",
       "348                 Seminar - Objective C and Its uses             C.Seminars   \n",
       "349  To C or Not to C. A deep dive conference aout ...             C.Seminars   \n",
       "350  C is everywhere but we just don’t see it. Join...             C.Seminars   \n",
       "351                Conferences and Seminars : How to C             C.Seminars   \n",
       "\n",
       "    Unnamed: 2  \n",
       "0          NaN  \n",
       "1          NaN  \n",
       "2          NaN  \n",
       "3          NaN  \n",
       "4          NaN  \n",
       "..         ...  \n",
       "347        NaN  \n",
       "348        NaN  \n",
       "349        NaN  \n",
       "350        NaN  \n",
       "351        NaN  \n",
       "\n",
       "[352 rows x 3 columns]"
      ]
     },
     "execution_count": 3,
     "metadata": {},
     "output_type": "execute_result"
    }
   ],
   "source": [
    "events"
   ]
  },
  {
   "cell_type": "code",
   "execution_count": 4,
   "metadata": {},
   "outputs": [],
   "source": [
    "target_names = events.Type.unique().tolist()"
   ]
  },
  {
   "cell_type": "code",
   "execution_count": 5,
   "metadata": {},
   "outputs": [
    {
     "data": {
      "text/plain": [
       "['Management.Hackathons',\n",
       " 'Management.Webinars',\n",
       " 'Coding.Hackathons',\n",
       " 'Other.Hackathons',\n",
       " 'Coding.Webinars',\n",
       " 'Coding.Seminars',\n",
       " 'Security.Webinars',\n",
       " 'Security.Seminars',\n",
       " 'Other.Certifications',\n",
       " 'Security.Certifications',\n",
       " 'Other.Competitions',\n",
       " 'Management.Trainings',\n",
       " 'Other.Webinar',\n",
       " 'Higher_Education.Trainings',\n",
       " 'Higher_Education.Internships',\n",
       " 'Higher_Education.Webinars',\n",
       " 'Higher_Education.Expos',\n",
       " 'Higher_Education.Seminars',\n",
       " 'Management.Expos',\n",
       " 'Coding.Fests',\n",
       " 'Coding.Internships',\n",
       " 'Coding.Jobs',\n",
       " 'Coding.Expos',\n",
       " 'Coding.Certifications',\n",
       " 'Coding.Talks',\n",
       " 'Coding.Competitions',\n",
       " 'Artificial_Intelligence.Hackathons',\n",
       " 'Artificial_Intelligence.Webinars',\n",
       " 'Artificial_Intelligence.Fests',\n",
       " 'Artificial_Intelligence.Seminars',\n",
       " 'Artificial_Intelligence.Expos',\n",
       " 'Artificial_Intelligence.Certifications',\n",
       " 'Artificial_Intelligence.Trainings',\n",
       " 'Artificial_Intelligence.Courses',\n",
       " 'Artificial_Intelligence.Jobs',\n",
       " 'Artificial_Intelligence.Internships',\n",
       " 'Artificial_Intelligence.Talks',\n",
       " 'Python.Webinars',\n",
       " 'Python.Hackathons',\n",
       " 'Python.Fests',\n",
       " 'Python.Jobs',\n",
       " 'Python.Trainings',\n",
       " 'Python.Internships',\n",
       " 'Python.Competitions',\n",
       " 'Python.Seminars',\n",
       " 'Python.Expos',\n",
       " 'Python.Talks',\n",
       " 'Python.Courses',\n",
       " 'Python.Certifications',\n",
       " 'Python.Workshops',\n",
       " 'Finance.Hackathons',\n",
       " 'Finance.Webinars',\n",
       " 'Finance.Talks',\n",
       " 'Finance.Fests',\n",
       " 'Finance.Courses',\n",
       " 'Finance.Certifications',\n",
       " 'Finance.Seminars',\n",
       " 'Finance.Jobs',\n",
       " 'Finance.Internships',\n",
       " 'Finance.Workshops',\n",
       " 'Mobile_Applications.Hackathons',\n",
       " 'Mobile_Applications.Webinars',\n",
       " 'Mobile_Applications.Fests',\n",
       " 'Mobile_Applications.Certifications',\n",
       " 'Mobile_Applications.Seminars',\n",
       " 'Mobile_Applications.Courses',\n",
       " 'Mobile_Applications.Expos',\n",
       " 'Mobile_Applications.Jobs',\n",
       " 'Mobile_Applications.Trainings',\n",
       " 'Mobile_Applications.Internships',\n",
       " 'Mobile_Applications.Competitions',\n",
       " 'Mobile_Applications.Talks',\n",
       " 'Mobile_Applications.Workshops',\n",
       " 'Cpp.Hackathons',\n",
       " 'Cpp.Webinars',\n",
       " 'Cpp.Fests',\n",
       " 'Cpp.Certifications',\n",
       " 'Cpp.Seminars',\n",
       " 'Cpp.Courses',\n",
       " 'Cpp.Expos',\n",
       " 'Cpp.Jobs',\n",
       " 'Cpp.Trainings',\n",
       " 'Cpp.Internships',\n",
       " 'Cpp.Competitions',\n",
       " 'Cpp.Talks',\n",
       " 'Cpp.Workshops',\n",
       " 'C.Hackathons',\n",
       " 'C.Webinars',\n",
       " 'C.Fests',\n",
       " 'C.Certifications',\n",
       " 'C.Seminars']"
      ]
     },
     "execution_count": 5,
     "metadata": {},
     "output_type": "execute_result"
    }
   ],
   "source": [
    "target_names"
   ]
  },
  {
   "cell_type": "code",
   "execution_count": 6,
   "metadata": {},
   "outputs": [],
   "source": [
    "from sklearn.model_selection import train_test_split\n",
    "\n",
    "X_train, X_test, y_train, y_test = train_test_split(events.Events.str.lower().values, events.Type.values, test_size=0.1, shuffle = True, random_state=42)"
   ]
  },
  {
   "cell_type": "code",
   "execution_count": 7,
   "metadata": {},
   "outputs": [
    {
     "data": {
      "text/plain": [
       "(316, 800)"
      ]
     },
     "execution_count": 7,
     "metadata": {},
     "output_type": "execute_result"
    }
   ],
   "source": [
    "# Extracting features from text files\n",
    "from sklearn.feature_extraction.text import CountVectorizer\n",
    "count_vect = CountVectorizer()\n",
    "X_train_counts = count_vect.fit_transform(X_train)\n",
    "X_train_counts.shape"
   ]
  },
  {
   "cell_type": "code",
   "execution_count": 8,
   "metadata": {},
   "outputs": [
    {
     "data": {
      "text/plain": [
       "(316, 800)"
      ]
     },
     "execution_count": 8,
     "metadata": {},
     "output_type": "execute_result"
    }
   ],
   "source": [
    "from sklearn.feature_extraction.text import TfidfTransformer\n",
    "tfidf_transformer = TfidfTransformer()\n",
    "X_train_tfidf = tfidf_transformer.fit_transform(X_train_counts)\n",
    "X_train_tfidf.shape"
   ]
  },
  {
   "cell_type": "code",
   "execution_count": 16,
   "metadata": {},
   "outputs": [],
   "source": [
    "from sklearn.naive_bayes import MultinomialNB\n",
    "clf = MultinomialNB().fit(X_train_tfidf, y_train)"
   ]
  },
  {
   "cell_type": "code",
   "execution_count": 18,
   "metadata": {},
   "outputs": [],
   "source": [
    "from sklearn.pipeline import Pipeline\n",
    "\n",
    "text_clf = Pipeline([('vect', CountVectorizer()), ('tfidf', TfidfTransformer()), ('clf', MultinomialNB())])\n",
    "\n",
    "text_clf = text_clf.fit(X_train, y_train)"
   ]
  },
  {
   "cell_type": "code",
   "execution_count": 19,
   "metadata": {},
   "outputs": [
    {
     "data": {
      "text/plain": [
       "0.0"
      ]
     },
     "execution_count": 19,
     "metadata": {},
     "output_type": "execute_result"
    }
   ],
   "source": [
    "import numpy as np\n",
    "predicted = text_clf.predict(X_test)\n",
    "np.mean(predicted == y_test)"
   ]
  },
  {
   "cell_type": "code",
   "execution_count": 20,
   "metadata": {},
   "outputs": [
    {
     "name": "stdout",
     "output_type": "stream",
     "text": [
      "part time position as a mobile application executive : Finance.Internships : Mobile_Applications.Internships\n",
      "job alert! join xl dynamics' elite team of financial analysts - interview @ home : Finance.Jobs : Finance.Jobs\n",
      "how to program efficiently? join us in a live from your home : C.Webinars : Coding.Webinars\n",
      "ai chat bot developer required! : Coding.Jobs : Artificial_Intelligence.Jobs\n",
      "don’t waste your vacations. use it wisely by joining our bootcamp on mobile application managing ( both android and ios ) : Mobile_Applications.Trainings : Mobile_Applications.Trainings\n",
      "one week away! participate in developer week: one of the world’s largest expo and conferences for developers : Python.Expos : Coding.Expos\n",
      "harness the power of c++ with our playlist of talks : Mobile_Applications.Courses : Cpp.Talks\n",
      "artificial intelligence hackathon by codebay. two days left! : Mobile_Applications.Hackathons : Artificial_Intelligence.Hackathons\n",
      "the modern c++ course by udacity is out now! sign up today for a special discount : C.Fests : Cpp.Courses\n",
      "live panel and discussion on covid-19 recovery planning using advanced analytics : Finance.Talks : Coding.Seminars\n",
      "c is everywhere but we just don’t see it. join a seminar where we talk about how useful the c programming language is : C.Fests : C.Seminars\n",
      "national webinar on banks, nbfcs & capital markets : Finance.Webinars : Other.Webinar\n"
     ]
    },
    {
     "data": {
      "text/plain": [
       "0.19444444444444445"
      ]
     },
     "execution_count": 20,
     "metadata": {},
     "output_type": "execute_result"
    }
   ],
   "source": [
    "from sklearn.linear_model import SGDClassifier\n",
    "from sklearn.pipeline import Pipeline\n",
    "text_clf_svm = Pipeline([('vect', CountVectorizer()), ('tfidf', TfidfTransformer()),\n",
    "                         ('clf-svm', SGDClassifier(loss='hinge', penalty='l2',alpha=1e-3, max_iter=20, random_state=42))])\n",
    "\n",
    "text_clf_svm = text_clf_svm.fit(X_train, y_train)\n",
    "predicted_svm = text_clf_svm.predict(X_test)\n",
    "for i in range(len(X_test)):\n",
    "    if i%3 == 0:\n",
    "        print(X_test[i] + \" : \"+ predicted_svm[i] + \" : \" + y_test[i])\n",
    "np.mean(predicted_svm == y_test)"
   ]
  },
  {
   "cell_type": "code",
   "execution_count": 11,
   "metadata": {},
   "outputs": [],
   "source": [
    "from sklearn.model_selection import GridSearchCV\n",
    "parameters = {'vect__ngram_range': [(1, 1), (1, 2)], 'tfidf__use_idf': (True, False), 'clf__alpha': (1e-2, 1e-3)}"
   ]
  },
  {
   "cell_type": "code",
   "execution_count": 21,
   "metadata": {},
   "outputs": [
    {
     "name": "stderr",
     "output_type": "stream",
     "text": [
      "C:\\Users\\shiva\\AppData\\Local\\Programs\\Python\\Python37\\lib\\site-packages\\sklearn\\model_selection\\_split.py:667: UserWarning: The least populated class in y has only 1 members, which is less than n_splits=5.\n",
      "  % (min_groups, self.n_splits)), UserWarning)\n"
     ]
    }
   ],
   "source": [
    "gs_clf = GridSearchCV(text_clf, parameters, n_jobs=-1)\n",
    "gs_clf = gs_clf.fit(X_train, y_train)"
   ]
  },
  {
   "cell_type": "code",
   "execution_count": 22,
   "metadata": {},
   "outputs": [
    {
     "data": {
      "text/plain": [
       "{'clf__alpha': 0.01, 'tfidf__use_idf': False, 'vect__ngram_range': (1, 1)}"
      ]
     },
     "execution_count": 22,
     "metadata": {},
     "output_type": "execute_result"
    }
   ],
   "source": [
    "gs_clf.best_score_\n",
    "gs_clf.best_params_"
   ]
  },
  {
   "cell_type": "code",
   "execution_count": 23,
   "metadata": {},
   "outputs": [
    {
     "name": "stderr",
     "output_type": "stream",
     "text": [
      "C:\\Users\\shiva\\AppData\\Local\\Programs\\Python\\Python37\\lib\\site-packages\\sklearn\\model_selection\\_split.py:667: UserWarning: The least populated class in y has only 1 members, which is less than n_splits=5.\n",
      "  % (min_groups, self.n_splits)), UserWarning)\n",
      "C:\\Users\\shiva\\AppData\\Local\\Programs\\Python\\Python37\\lib\\site-packages\\sklearn\\linear_model\\_stochastic_gradient.py:557: ConvergenceWarning: Maximum number of iteration reached before convergence. Consider increasing max_iter to improve the fit.\n",
      "  ConvergenceWarning)\n"
     ]
    },
    {
     "data": {
      "text/plain": [
       "{'clf-svm__alpha': 0.001, 'tfidf__use_idf': False, 'vect__ngram_range': (1, 1)}"
      ]
     },
     "execution_count": 23,
     "metadata": {},
     "output_type": "execute_result"
    }
   ],
   "source": [
    "from sklearn.model_selection import GridSearchCV\n",
    "parameters_svm = {'vect__ngram_range': [(1, 1), (1, 2)], 'tfidf__use_idf': (True, False),'clf-svm__alpha': (1e-2, 1e-3)}\n",
    "\n",
    "gs_clf_svm = GridSearchCV(text_clf_svm, parameters_svm, n_jobs=-1)\n",
    "gs_clf_svm = gs_clf_svm.fit(X_train, y_train)\n",
    "\n",
    "\n",
    "gs_clf_svm.best_score_\n",
    "gs_clf_svm.best_params_"
   ]
  },
  {
   "cell_type": "code",
   "execution_count": 24,
   "metadata": {},
   "outputs": [],
   "source": [
    "from sklearn.pipeline import Pipeline\n",
    "text_clf = Pipeline([('vect', CountVectorizer(stop_words='english')), ('tfidf', TfidfTransformer()), \n",
    "                     ('clf', MultinomialNB())])"
   ]
  },
  {
   "cell_type": "code",
   "execution_count": null,
   "metadata": {},
   "outputs": [
    {
     "name": "stdout",
     "output_type": "stream",
     "text": [
      "showing info https://raw.githubusercontent.com/nltk/nltk_data/gh-pages/index.xml\n"
     ]
    }
   ],
   "source": [
    "import nltk\n",
    "nltk.download()\n",
    "\n",
    "from nltk.stem.snowball import SnowballStemmer\n",
    "stemmer = SnowballStemmer(\"english\", ignore_stopwords=True)\n",
    "\n",
    "class StemmedCountVectorizer(CountVectorizer):\n",
    "    def build_analyzer(self):\n",
    "        analyzer = super(StemmedCountVectorizer, self).build_analyzer()\n",
    "        return lambda doc: ([stemmer.stem(w) for w in analyzer(doc)])\n",
    "    \n",
    "stemmed_count_vect = StemmedCountVectorizer(stop_words='english')\n",
    "\n",
    "text_mnb_stemmed = Pipeline([('vect', stemmed_count_vect), ('tfidf', TfidfTransformer()), \n",
    "                             ('mnb', MultinomialNB(fit_prior=False))])\n",
    "\n",
    "text_mnb_stemmed = text_mnb_stemmed.fit(X_train, y_train)\n",
    "\n",
    "predicted_mnb_stemmed = text_mnb_stemmed.predict(X_test)\n",
    "\n",
    "np.mean(predicted_mnb_stemmed == y_test)"
   ]
  },
  {
   "cell_type": "code",
   "execution_count": null,
   "metadata": {},
   "outputs": [],
   "source": []
  }
 ],
 "metadata": {
  "kernelspec": {
   "display_name": "Python 3.7.4 64-bit",
   "language": "python",
   "name": "python37464bitfb59ccd90b7d435dba0da5732abee3eb"
  },
  "language_info": {
   "codemirror_mode": {
    "name": "ipython",
    "version": 3
   },
   "file_extension": ".py",
   "mimetype": "text/x-python",
   "name": "python",
   "nbconvert_exporter": "python",
   "pygments_lexer": "ipython3",
   "version": "3.7.4"
  }
 },
 "nbformat": 4,
 "nbformat_minor": 2
}

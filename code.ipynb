{
 "cells": [
  {
   "cell_type": "code",
   "execution_count": 3,
   "metadata": {},
   "outputs": [],
   "source": [
    "import numpy as np\n",
    "import pandas as pd\n",
    "import pickle\n",
    "from sklearn.feature_extraction.text import TfidfVectorizer\n",
    "from nltk.stem import SnowballStemmer"
   ]
  },
  {
   "cell_type": "code",
   "execution_count": null,
   "metadata": {},
   "outputs": [],
   "source": [
    "def load_model():\n",
    "    tfidf = pickle.load(open(\"tfidf.pickle\",'rb'))\n",
    "    model + pickle.load(open(\"model.sav\", 'rb'))\n",
    "    return tfidf,model"
   ]
  },
  {
   "cell_type": "code",
   "execution_count": 4,
   "metadata": {},
   "outputs": [],
   "source": [
    "def split_lemma(event_list):#stemmer = SnowballStemmer(\"english\")\n",
    "    stemmer = SnowballStemmer(\"english\")\n",
    "    #lemma = WordNetLemmatizer()\n",
    "\n",
    "    output = []\n",
    "    for sentence in event_list:\n",
    "        output.append(\" \".join([stemmer.stem(i) for i in sentence.split()]))\n",
    "    return output"
   ]
  },
  {
   "cell_type": "code",
   "execution_count": 7,
   "metadata": {},
   "outputs": [
    {
     "data": {
      "text/plain": [
       "<2x2892 sparse matrix of type '<class 'numpy.float64'>'\n",
       "\twith 4 stored elements in Compressed Sparse Row format>"
      ]
     },
     "execution_count": 7,
     "metadata": {},
     "output_type": "execute_result"
    }
   ],
   "source": [
    "#texts = [\"No don't do that to me\",\n",
    "        \"Please leave me alone\"]\n",
    "#tfidf = pickle.load(open(\"tfidf.pickle\",'rb'))\n",
    "#tfidf = TfidfVectorizer(sublinear_tf=True, min_df=2, norm='l2', encoding='latin-1', ngram_range=(1, 3), stop_words= 'english', token_pattern = r\"(?u)c\\+{2}|\\b\\w+\\b\")\n",
    "#tfidf.transform(split_lemma(texts))"
   ]
  },
  {
   "cell_type": "code",
   "execution_count": null,
   "metadata": {},
   "outputs": [],
   "source": [
    "def get_query(event_dom, event_type, employees):\n",
    "    return employees.query(\"Domain == '\" + event_dom + \"' and (Event1 == '\" + event_type +\"' or Event2 == '\" + event_type + \"')\")"
   ]
  },
  {
   "cell_type": "code",
   "execution_count": null,
   "metadata": {},
   "outputs": [],
   "source": [
    "def predict(events, employees, tfidf, model):\n",
    "    #for event in events:\n",
    "        #print(type(event))\n",
    "        recommendations = []\n",
    "        pred = model.predict(tfidf.transform(events))\n",
    "        \n",
    "        #for text, predicted in zip(events, pred):\n",
    "          #print('\"{}\"'.format(text))\n",
    "          #print(\"  - Predicted as: '{}'\".format(predicted))\n",
    "          #print(\"\")\n",
    "        \n",
    "        for prediction in pred.tolist():\n",
    "            domain, event_type = prediction.split(\".\")\n",
    "            if domain == 'Artificial_Intelligence':\n",
    "                #recommend_to = employees.loc[employees['Domain'] == \"Artificial Intelligence\" and (employees['Event1'] == event_type or employees['Event2'] == event_type) , 'Name'].all()\n",
    "                recommend_to = get_query('Artificial Intelligence', event_type, employees)\n",
    "                \n",
    "            elif domain == 'WebDev':\n",
    "                recommend_to = get_query('Web Development', event_type, employees)\n",
    "                \n",
    "            elif domain == 'Mobile_Applications':\n",
    "                recommend_to = get_query('Mobile Applications', event_type, employees)\n",
    "                \n",
    "            elif domain == 'ML':\n",
    "                recommend_to = get_query('Machine Learning', event_type, employees)\n",
    "                \n",
    "            elif domain == 'CC':\n",
    "                recommend_to = get_query('Cloud Computing', event_type, employees)\n",
    "                \n",
    "            elif domain == 'Higher_Education':\n",
    "                recommend_to = get_query('Higher Education', event_type, employees)\n",
    "                \n",
    "            elif domain == 'DevOps':\n",
    "                recommend_to = get_query('Development Processes', event_type, employees)\n",
    "                \n",
    "            elif domain == 'Software_Architecture':\n",
    "                recommend_to = get_query('Software Architecture', event_type, employees)\n",
    "                \n",
    "            elif domain == 'Data_Science':\n",
    "                recommend_to = get_query('Data Science', event_type, employees)\n",
    "                \n",
    "            elif domain == 'Cpp':\n",
    "                recommend_to = get_query('C++', event_type, employees)\n",
    "                \n",
    "            elif domain == 'None':\n",
    "                recommend_to = employees.query(\"Event1 == '\" + event_type + \"' or Event2 == '\" + event_type + \"'\")\n",
    "                \n",
    "            else:\n",
    "                recommend_to = get_query(domain, event_type, employees)\n",
    "                \n",
    "            recommendations.append(\", \".join(recommend_to['Name'].values))\n",
    "            \n",
    "        return recommendations"
   ]
  },
  {
   "cell_type": "code",
   "execution_count": null,
   "metadata": {},
   "outputs": [],
   "source": [
    "if __name__ == \"__main__\":\n",
    "    employees = pd.read_csv(\"CCMLEmployeeData.csv\")\n",
    "    \n",
    "    to_pred = input(\"Please enter the file name with : \")\n",
    "    \n",
    "    to_pred_events = pd.read_csv(to_pred)\n",
    "    to_pred_sent = split_lemma(to_pred_events.iloc[:,0])\n",
    "    \n",
    "    tfidf, model = load_model()\n",
    "    \n",
    "    recommendations = predict(to_pred_sent, employees,tfidf,model)\n",
    "    #print(recommendations)\n",
    "    to_pred_events['Employees'] = recommendations\n",
    "    with open(\"output.xls\",\"w\"):\n",
    "    to_pred_events.to_csv(\"output.xls\", index=False)"
   ]
  }
 ],
 "metadata": {
  "kernelspec": {
   "display_name": "Python 3.7.4 64-bit",
   "language": "python",
   "name": "python37464bitfb59ccd90b7d435dba0da5732abee3eb"
  },
  "language_info": {
   "codemirror_mode": {
    "name": "ipython",
    "version": 3
   },
   "file_extension": ".py",
   "mimetype": "text/x-python",
   "name": "python",
   "nbconvert_exporter": "python",
   "pygments_lexer": "ipython3",
   "version": "3.7.4"
  }
 },
 "nbformat": 4,
 "nbformat_minor": 2
}
